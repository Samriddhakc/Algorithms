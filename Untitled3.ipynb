{
 "cells": [
  {
   "cell_type": "code",
   "execution_count": 47,
   "metadata": {},
   "outputs": [],
   "source": [
    "import numpy as np \n",
    "from keras import backend as K\n",
    "import tensorflow as tf\n",
    "def pairwise_distance(embeddings,squared=False):\n",
    "\n",
    "    dot_product=tf.matmul(embeddings,tf.transpose(embeddings))\n",
    "    square_norm=tf.diag_part(dot_product)\n",
    "    distances=tf.expand_dims(square_norm,0)-2.0*dot_product + K.expand_dims(square_norm,1)\n",
    "    distances=tf.maximum(distances,0.0)\n",
    "    if not squared:\n",
    "        mask=tf.to_float(K.equal(distances, 0.0))\n",
    "        distances=distances+mask*1e-16\n",
    "        distances=K.sqrt(distances)\n",
    "    return distances "
   ]
  },
  {
   "cell_type": "code",
   "execution_count": 56,
   "metadata": {},
   "outputs": [
    {
     "data": {
      "text/plain": [
       "array([[1.e-08, 1.e-08, 1.e-08, 1.e-08, 1.e-08],\n",
       "       [1.e-08, 1.e-08, 1.e-08, 1.e-08, 1.e-08],\n",
       "       [1.e-08, 1.e-08, 1.e-08, 1.e-08, 1.e-08],\n",
       "       [1.e-08, 1.e-08, 1.e-08, 1.e-08, 1.e-08],\n",
       "       [1.e-08, 1.e-08, 1.e-08, 1.e-08, 1.e-08]], dtype=float32)"
      ]
     },
     "execution_count": 56,
     "metadata": {},
     "output_type": "execute_result"
    }
   ],
   "source": [
    "sess=tf.Session()\n",
    "embeddings=np.ones(20)\n",
    "embeddings.resize(5,4)\n",
    "tensor_emb=tf.convert_to_tensor(embeddings,dtype=tf.float32)\n",
    "matrix=pairwise_distance(tensor_emb,False)\n",
    "sess.run(matrix)"
   ]
  },
  {
   "cell_type": "code",
   "execution_count": 57,
   "metadata": {},
   "outputs": [
    {
     "data": {
      "text/plain": [
       "array([1, 2, 3, 4])"
      ]
     },
     "execution_count": 57,
     "metadata": {},
     "output_type": "execute_result"
    }
   ],
   "source": [
    "np.array([1,2,3,4])"
   ]
  },
  {
   "cell_type": "code",
   "execution_count": 58,
   "metadata": {},
   "outputs": [],
   "source": [
    "\n",
    "\n",
    "\n",
    "def batch_all_triplet_loss(labels,embeddings,margin, squared=False):\n",
    "    \n",
    "    pairwise_dist=pairwise_distance(embeddings,squared=squared)\n",
    "    anchor_positive_dist=tf.expand_dims(pairwise_dist,2)\n",
    "    anchor_negative_dist=tf.expand_dims(pairwise_dist,1)\n",
    "    triplet_loss=anchor_positive_dist-anchor_negative_dist+margin\n",
    "    mask=_get_triplet_mask(labels)\n",
    "    mask=tf.to_float(mask)\n",
    "    triplet_loss=tf.multiply(mask,triplet_loss)\n",
    "    triplet_loss=tf.to_float(tf.greater(triplet_loss,1e-16))\n",
    "    num_positive_triplets=tf.reduce_sum(valid_triplets)\n",
    "    num_valid_triplets=tf.reduce_sum(mask)\n",
    "    fraction_positive_triplets=num_positive_triplets/(num_valid_triplets+1e-16)\n",
    "    triplet_loss=tf.reduce_sum(triplet_loss)/(num_valid_triplets+1e-16)\n",
    "    return triplet_loss, fraction_positive_triplets\n",
    "    \n",
    "\n",
    "    \n",
    "    "
   ]
  },
  {
   "cell_type": "code",
   "execution_count": null,
   "metadata": {},
   "outputs": [],
   "source": []
  }
 ],
 "metadata": {
  "kernelspec": {
   "display_name": "Python 3",
   "language": "python",
   "name": "python3"
  },
  "language_info": {
   "codemirror_mode": {
    "name": "ipython",
    "version": 3
   },
   "file_extension": ".py",
   "mimetype": "text/x-python",
   "name": "python",
   "nbconvert_exporter": "python",
   "pygments_lexer": "ipython3",
   "version": "3.5.2"
  }
 },
 "nbformat": 4,
 "nbformat_minor": 2
}

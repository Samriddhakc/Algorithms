{
 "cells": [
  {
   "cell_type": "code",
   "execution_count": 2,
   "metadata": {},
   "outputs": [],
   "source": [
    "import keras\n",
    "from keras import regularizers\n",
    "from keras.models import Model\n",
    "from keras.layers import Input, Dense, Conv2D, MaxPooling2D, Dropout, Flatten, Lambda\n",
    "from keras import backend as K\n",
    "import numpy as np\n",
    "from keras import optimizers\n",
    "import matplotlib.pyplot as plt\n",
    "from IPython.display import clear_output\n",
    "from collections import defaultdict\n",
    "from sklearn.datasets import fetch_mldata\n",
    "from keras.datasets import cifar10,mnist\n",
    "from keras.callbacks import ModelCheckpoint#save your model\n",
    "import os\n",
    "import pandas as pd\n",
    "import matplotlib.pyplot as plt\n",
    "import tensorflow as tf\n",
    "from tensorflow.contrib.tensorboard.plugins import projector\n",
    "from tensorflow.examples.tutorials.mnist import input_data"
   ]
  },
  {
   "cell_type": "code",
   "execution_count": 3,
   "metadata": {},
   "outputs": [
    {
     "name": "stdout",
     "output_type": "stream",
     "text": [
      "(60000, 28, 28)\n",
      "(10000, 28, 28)\n"
     ]
    }
   ],
   "source": [
    "(x_train, y_train),(x_test, y_test) = mnist.load_data()\n",
    "print(x_train.shape)\n",
    "print(x_test.shape)"
   ]
  },
  {
   "cell_type": "code",
   "execution_count": 4,
   "metadata": {},
   "outputs": [],
   "source": [
    "x_train= x_train.astype('float32')\n",
    "x_test = x_test.astype('float32')\n",
    "x_train /= 255\n",
    "x_test/= 255"
   ]
  },
  {
   "cell_type": "code",
   "execution_count": 5,
   "metadata": {},
   "outputs": [
    {
     "name": "stdout",
     "output_type": "stream",
     "text": [
      "(60000, 28, 28, 1)\n",
      "(10000, 28, 28, 1)\n"
     ]
    }
   ],
   "source": [
    "img_rows=28\n",
    "img_cols=28\n",
    "if K.image_data_format() == 'channels_first':\n",
    "    x_train = x_train.reshape(x_train.shape[0], 1, img_rows, img_cols)\n",
    "    x_test = x_test.reshape(x_test.shape[0], 1, img_rows, img_cols)\n",
    "    input_shape = (1, img_rows, img_cols)\n",
    "else:\n",
    "    x_train = x_train.reshape(x_train.shape[0], img_rows, img_cols, 1)\n",
    "    x_test = x_test.reshape(x_test.shape[0], img_rows, img_cols, 1)\n",
    "    input_shape = (img_rows, img_cols, 1)\n",
    "print(x_train.shape)\n",
    "print(x_test.shape)"
   ]
  },
  {
   "cell_type": "code",
   "execution_count": 6,
   "metadata": {},
   "outputs": [
    {
     "name": "stdout",
     "output_type": "stream",
     "text": [
      "(35000, 28, 28, 1)\n",
      "(35000,)\n",
      "(35000, 28, 28, 1)\n",
      "(35000,)\n"
     ]
    }
   ],
   "source": [
    "#making even splits of validation and train set \n",
    "x_train_1=x_train[:35000]\n",
    "y_train_1=y_train[:35000]\n",
    "x_add=x_train[35000:]\n",
    "y_add=y_train[35000:]\n",
    "x_test_1=np.vstack((x_add,x_test))\n",
    "y_test_1=np.hstack((y_add,y_test))\n",
    "print(x_test_1.shape)\n",
    "print(y_test_1.shape)\n",
    "print(x_train_1.shape)\n",
    "print(y_train_1.shape)"
   ]
  },
  {
   "cell_type": "code",
   "execution_count": 8,
   "metadata": {},
   "outputs": [],
   "source": [
    "def get_triples_indices(grouped, n):\n",
    "    num_classes = len(grouped) \n",
    "    positive_labels = np.random.randint(0, num_classes, size=n)\n",
    "    negative_labels = (np.random.randint(1, num_classes, size=n) + positive_labels) % num_classes\n",
    "    triples_indices = []\n",
    "    for positive_label, negative_label in zip(positive_labels, negative_labels):\n",
    "        negative = np.random.choice(grouped[negative_label])\n",
    "        positive_group = grouped[positive_label]\n",
    "        m = len(positive_group)\n",
    "        anchor_j = np.random.randint(0, m)\n",
    "        anchor = positive_group[anchor_j]\n",
    "        positive_j = (np.random.randint(1, m) + anchor_j) % m\n",
    "        positive = positive_group[positive_j]\n",
    "        triples_indices.append([anchor, positive, negative])\n",
    "    return np.asarray(triples_indices)\n",
    "\n",
    "def get_triples_data(x, grouped, n):\n",
    "    indices = get_triples_indices(grouped, n)\n",
    "    return x[indices[:,0]], x[indices[:,1]], x[indices[:,2]]"
   ]
  },
  {
   "cell_type": "code",
   "execution_count": 26,
   "metadata": {},
   "outputs": [],
   "source": [
    "def triplet_loss(inputs):\n",
    "    margin=1\n",
    "    anchor, positive, negative = inputs\n",
    "    positive_distance = K.square(anchor - positive)\n",
    "    negative_distance = K.square(anchor - negative)\n",
    "    positive_distance = K.sqrt(K.sum(positive_distance, axis=-1, keepdims=True))\n",
    "    negative_distance = K.sqrt(K.sum(negative_distance, axis=-1, keepdims=True))\n",
    "    loss = positive_distance - negative_distance+margin\n",
    "    loss=K.maximum(0.0,loss)\n",
    "    return K.mean(loss)\n",
    "\n",
    "def build_model(input_shape):\n",
    "    base_input = Input(input_shape)\n",
    "    x = Conv2D(32, (3, 3), activation='relu')(base_input)\n",
    "    x = MaxPooling2D((2, 2))(x)\n",
    "    x = Conv2D(64, (3, 3), activation='relu')(x)\n",
    "    x = MaxPooling2D((2, 2))(x)\n",
    "    x = Dropout(0.25)(x)\n",
    "    x = Flatten()(x)\n",
    "    x = Dense(5,kernel_regularizer=regularizers.l2(0.2),activation='softmax')(x)\n",
    "    x = Lambda(lambda x: K.l2_normalize(x, axis=-1))(x) # force the embedding onto the surface of an n-sphere\n",
    "    embedding_model = Model(base_input, x, name='embedding')\n",
    "    \n",
    "    anchor_input = Input(input_shape, name='anchor_input')\n",
    "    positive_input = Input(input_shape, name='positive_input')\n",
    "    negative_input = Input(input_shape, name='negative_input')\n",
    "    \n",
    "    anchor_embedding = embedding_model(anchor_input)\n",
    "    positive_embedding = embedding_model(positive_input)\n",
    "    negative_embedding = embedding_model(negative_input)\n",
    "\n",
    "    inputs = [anchor_input, positive_input, negative_input]\n",
    "    outputs = [anchor_embedding, positive_embedding, negative_embedding]\n",
    "    triplet_model = Model(inputs, outputs)\n",
    "    triplet_model.add_loss(K.mean(triplet_loss(outputs)))\n",
    "    sgd = optimizers.Adam(lr=0.001)\n",
    "    triplet_model.compile(loss=None, optimizer=sgd)\n",
    "\n",
    "    return embedding_model, triplet_model"
   ]
  },
  {
   "cell_type": "code",
   "execution_count": null,
   "metadata": {},
   "outputs": [],
   "source": [
    "class accuracy(keras.callbacks.Callback):\n",
    "     def on_train_begin(self, logs={}):\n",
    "        return\n",
    " \n",
    "    def on_train_end(self, logs={}):\n",
    "        return\n",
    " \n",
    "    def on_epoch_begin(self, logs={}):\n",
    "        return\n",
    " \n",
    "    def on_epoch_end(self, epoch, logs={}):\n",
    "        return\n",
    " \n",
    "    def on_batch_begin(self, batch, logs={}):\n",
    "        return\n",
    " \n",
    "    def on_batch_end(self, batch, logs={}):\n",
    "        self.losses.append(logs.get('loss'))\n",
    "        return\n",
    "        "
   ]
  },
  {
   "cell_type": "code",
   "execution_count": 27,
   "metadata": {},
   "outputs": [
    {
     "name": "stderr",
     "output_type": "stream",
     "text": [
      "/anaconda2/lib/python2.7/site-packages/ipykernel_launcher.py:37: UserWarning: Output \"embedding\" missing from loss dictionary. We assume this was done on purpose, and we will not be expecting any data to be passed to \"embedding\" during training.\n"
     ]
    },
    {
     "name": "stdout",
     "output_type": "stream",
     "text": [
      "Epoch 1/10\n",
      "32/32 [==============================] - 4s - loss: 3.9814 - val_loss: 1.8988\n",
      "Epoch 2/10\n",
      "32/32 [==============================] - 4s - loss: 1.2475 - val_loss: 1.1456\n",
      "Epoch 3/10\n",
      "32/32 [==============================] - 4s - loss: 0.7235 - val_loss: 1.1136\n",
      "Epoch 4/10\n",
      "32/32 [==============================] - 4s - loss: 0.7118 - val_loss: 1.1309\n",
      "Epoch 5/10\n",
      "32/32 [==============================] - 4s - loss: 0.6568 - val_loss: 1.1458\n",
      "Epoch 6/10\n",
      "32/32 [==============================] - 4s - loss: 0.6186 - val_loss: 1.1451\n",
      "Epoch 7/10\n",
      "32/32 [==============================] - 4s - loss: 0.5749 - val_loss: 1.1551\n",
      "Epoch 8/10\n",
      "32/32 [==============================] - 4s - loss: 0.5114 - val_loss: 1.1196\n",
      "Epoch 9/10\n",
      "32/32 [==============================] - 4s - loss: 0.5128 - val_loss: 1.1169\n",
      "Epoch 10/10\n",
      "32/32 [==============================] - 4s - loss: 0.5056 - val_loss: 1.1410\n"
     ]
    }
   ],
   "source": [
    "\n",
    "batch_size = 32\n",
    "steps_per_epoch = 32\n",
    "epochs = 10\n",
    "def triplet_generator(x, y, batch_size):\n",
    "    grouped = defaultdict(list)\n",
    "    for i, label in enumerate(y):\n",
    "        grouped[label].append(i)\n",
    "        \n",
    "    while True:\n",
    "        x_anchor, x_positive, x_negative = get_triples_data(x_train_1, grouped, batch_size)\n",
    "        yield ({'anchor_input': x_anchor,\n",
    "               'positive_input': x_positive,\n",
    "               'negative_input': x_negative},None)\n",
    "embedding_model, triplet_model = build_model((28,28,1))\n",
    "history = triplet_model.fit_generator(triplet_generator(x_train_1, y_train_1, batch_size),steps_per_epoch=steps_per_epoch,\n",
    "                                          epochs=epochs,verbose=1,validation_data=triplet_generator(x_test_1,y_test_1,batch_size),validation_steps=100,max_queue_size=1,workers=1)"
   ]
  },
  {
   "cell_type": "code",
   "execution_count": 55,
   "metadata": {},
   "outputs": [
    {
     "name": "stdout",
     "output_type": "stream",
     "text": [
      "[3.981366954743862, 1.2475334387272596, 0.723502442240715, 0.7118224333971739, 0.6568034933879972, 0.6185534130781889, 0.57485456392169, 0.5114242881536484, 0.5128229763358831, 0.505593947134912]\n"
     ]
    },
    {
     "data": {
      "image/png": "[encoded data removed]",
      "text/plain": [
       "<matplotlib.figure.Figure at 0x13a26fe90>"
      ]
     },
     "metadata": {},
     "output_type": "display_data"
    },
    {
     "name": "stdout",
     "output_type": "stream",
     "text": [
      "['loss', 'val_loss']\n"
     ]
    }
   ],
   "source": [
    "plt.plot(history.history['val_loss'], label='val_loss')\n",
    "plt.plot(history.history['loss'], label='loss') \n",
    "plt.legend()\n",
    "plt.show()\n",
    "print(history.history.keys())"
   ]
  },
  {
   "cell_type": "code",
   "execution_count": 29,
   "metadata": {},
   "outputs": [],
   "source": [
    "emb_vecs = np.zeros((len(x_train_1),5))\n",
    "for i,x in enumerate(x_train_1):\n",
    "    x = (x/255).astype(np.float32)\n",
    "    emb_vecs[i]= embedding_model.predict(np.expand_dims(x,axis=0))"
   ]
  },
  {
   "cell_type": "code",
   "execution_count": 30,
   "metadata": {},
   "outputs": [
    {
     "name": "stdout",
     "output_type": "stream",
     "text": [
      "[[0.45521691 0.48659721 0.44169757 0.40796411 0.44098684]\n",
      " [0.45523128 0.48657638 0.44161367 0.40796053 0.44108209]\n",
      " [0.4555532  0.48673886 0.44147432 0.40796384 0.44070685]\n",
      " ...\n",
      " [0.45560342 0.48659813 0.44154149 0.40796041 0.44074616]\n",
      " [0.45539838 0.48666647 0.44187936 0.40796798 0.44053686]\n",
      " [0.45530465 0.48663166 0.44157565 0.40795553 0.44098815]]\n"
     ]
    }
   ],
   "source": [
    "print(emb_vecs)\n",
    "def distance(emb1, emb2):\n",
    "    return np.sqrt(np.sum(np.square(emb1- emb2)))"
   ]
  },
  {
   "cell_type": "code",
   "execution_count": 31,
   "metadata": {},
   "outputs": [],
   "source": [
    "from scipy import stats\n",
    "def k_nearest_neighbor(embedding_values,labels,test_value,k): \n",
    "    '''calculates the k nearest neighbor a a given test_value and a particular k'''\n",
    "    similar=np.zeros(len(embedding_values))\n",
    "    for i,emb_vec in enumerate(embedding_values):\n",
    "        similar[i] = distance(test_value,emb_vec)\n",
    "    arrangement= np.argsort(similar)\n",
    "    arrangement=arrangement[:k]\n",
    "    k_nearest=labels[arrangement]\n",
    "    correct_index_list=stats.mode(k_nearest)\n",
    "    correct_index=correct_index_list[0].tolist()\n",
    "    return correct_index[0]"
   ]
  },
  {
   "cell_type": "code",
   "execution_count": 50,
   "metadata": {},
   "outputs": [
    {
     "name": "stdout",
     "output_type": "stream",
     "text": [
      "6\n",
      "5\n"
     ]
    }
   ],
   "source": [
    "test_image=x_train_1[100]\n",
    "test_image=embedding_model.predict(np.expand_dims(test_image,axis=0))\n",
    "correct_index=k_nearest_neighbor(emb_vecs,y_train_1,test_image,5)\n",
    "print(correct_index)\n",
    "print(y_train_1[100])"
   ]
  },
  {
   "cell_type": "code",
   "execution_count": 52,
   "metadata": {},
   "outputs": [
    {
     "name": "stdout",
     "output_type": "stream",
     "text": [
      "0\n",
      "1\n",
      "2\n",
      "3\n",
      "3\n",
      "4\n",
      "5\n",
      "5\n",
      "6\n",
      "7\n",
      "8\n",
      "9\n",
      "10\n",
      "11\n",
      "12\n",
      "13\n",
      "13\n",
      "14\n",
      "14\n",
      "15\n",
      "16\n",
      "17\n",
      "18\n",
      "19\n",
      "19\n",
      "20\n",
      "21\n",
      "22\n",
      "22\n",
      "22\n",
      "23\n",
      "24\n",
      "25\n",
      "26\n",
      "26\n",
      "27\n",
      "28\n",
      "29\n",
      "30\n",
      "30\n",
      "31\n",
      "32\n",
      "33\n",
      "34\n",
      "34\n",
      "35\n",
      "36\n",
      "37\n",
      "38\n",
      "39\n",
      "40\n",
      "41\n",
      "42\n",
      "43\n",
      "43\n",
      "44\n",
      "45\n",
      "46\n",
      "47\n",
      "48\n",
      "48\n",
      "49\n",
      "50\n",
      "50\n",
      "50\n",
      "50\n",
      "51\n",
      "52\n",
      "53\n",
      "53\n",
      "53\n",
      "53\n",
      "54\n",
      "55\n",
      "56\n",
      "56\n",
      "57\n",
      "58\n",
      "59\n",
      "59\n",
      "59\n",
      "59\n",
      "60\n",
      "61\n",
      "62\n",
      "63\n",
      "64\n",
      "65\n",
      "66\n",
      "67\n",
      "68\n",
      "69\n",
      "70\n",
      "71\n",
      "72\n",
      "73\n",
      "73\n",
      "74\n",
      "74\n",
      "75\n"
     ]
    }
   ],
   "source": [
    "score=0\n",
    "count=0\n",
    "for i,x in enumerate(emb_vecs):\n",
    "    pred=k_nearest_neighbor(emb_vecs,y_train_1,x,5)\n",
    "    if (pred==y_train_1[i]):\n",
    "        score=score+1\n",
    "    if (count==100):\n",
    "        break \n",
    "    count=count+1\n",
    "    print(score)"
   ]
  },
  {
   "cell_type": "code",
   "execution_count": 53,
   "metadata": {},
   "outputs": [
    {
     "name": "stdout",
     "output_type": "stream",
     "text": [
      "1.1581016862392426\n"
     ]
    }
   ],
   "source": [
    "score=triplet_model.evaluate_generator(triplet_generator(x_test_1,y_test_1,batch_size),steps=100, max_queue_size=1, workers=1, use_multiprocessing=False)\n",
    "print(score)"
   ]
  },
  {
   "cell_type": "code",
   "execution_count": null,
   "metadata": {},
   "outputs": [],
   "source": [
    "predict=triplet_model.predict_generator(triplet_generator(x_test_1,y_test_1,batch_size),steps=100,workers=1)"
   ]
  },
  {
   "cell_type": "markdown",
   "metadata": {},
   "source": [
    "test_image=x_train_1[4]\n",
    "test_image=embedding_model.predict(np.expand_dims(test_image,axis=0))\n",
    "correct_index=k_nearest_neighbor(emb_vecs,y_train_1,test_image,5)\n",
    "print(correct_index)\n",
    "print(y_train_1[3])"
   ]
  },
  {
   "cell_type": "code",
   "execution_count": 38,
   "metadata": {},
   "outputs": [
    {
     "data": {
      "text/plain": [
       "'/Users/samriddhakc/Desktop/logdir/model.ckpt'"
      ]
     },
     "execution_count": 38,
     "metadata": {},
     "output_type": "execute_result"
    }
   ],
   "source": [
    "logdir=\"/Users/samriddhakc/Desktop/logdir\"\n",
    "tf.reset_default_graph()\n",
    "session=tf.Session()\n",
    "embedding_var=tf.Variable(emb_vecs,name='mnist_embedding')\n",
    "saver=tf.train.Saver()\n",
    "session.run(tf.global_variables_initializer())\n",
    "saver.save(session,os.path.join(logdir,\"model.ckpt\"))"
   ]
  },
  {
   "cell_type": "code",
   "execution_count": 39,
   "metadata": {},
   "outputs": [],
   "source": [
    "def write_meta_file(savedir, labels):\n",
    "    with open(savedir+\"/metadata.tsv\", \"w\") as metafile:\n",
    "        string_array = []\n",
    "        for label in labels:\n",
    "            string_array.append(str(label)+\"\\n\")\n",
    "        metafile.writelines(string_array)"
   ]
  },
  {
   "cell_type": "code",
   "execution_count": 40,
   "metadata": {},
   "outputs": [],
   "source": [
    "write_meta_file(logdir,y_train_1)"
   ]
  },
  {
   "cell_type": "code",
   "execution_count": null,
   "metadata": {},
   "outputs": [],
   "source": []
  }
 ],
 "metadata": {
  "kernelspec": {
   "display_name": "Python 2",
   "language": "python",
   "name": "python2"
  },
  "language_info": {
   "codemirror_mode": {
    "name": "ipython",
    "version": 2
   },
   "file_extension": ".py",
   "mimetype": "text/x-python",
   "name": "python",
   "nbconvert_exporter": "python",
   "pygments_lexer": "ipython2",
   "version": "2.7.14"
  }
 },
 "nbformat": 4,
 "nbformat_minor": 2
}

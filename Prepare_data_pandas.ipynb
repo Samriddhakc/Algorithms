{
 "cells": [
  {
   "cell_type": "code",
   "execution_count": 2,
   "metadata": {},
   "outputs": [],
   "source": [
    "import numpy as np\n",
    "import pandas as pd\n",
    "import os"
   ]
  },
  {
   "cell_type": "code",
   "execution_count": 3,
   "metadata": {},
   "outputs": [],
   "source": [
    "data = pd.read_csv('dummy.txt',sep=\"|\")\n",
    "data.columns=[\"EANHotelID\",\"Caption\",\"URL\",\"Width\",\"Height\",\"ByteSize\",\"ThumbnailURL\",\"DefaultImage\"]\n",
    "\n",
    "data_2 = pd.read_csv('dummy_2.txt',sep=\"|\")\n",
    "data_2.columns=[\"EANHotelID\",\"SequenceNumber\",\"Name\",\"Address1\",\"Address2\",\"City\",\"StateProvince\",\"PostalCode\",\"Country\",\"Latitude\",\"Longitude\",\"AirportCode\",\"PropertyCategory\",\"PropertyCurrency\",\"StarRating\",\"Confidence\",\"SupplierType\",\"Location\",\"ChainCodeID\",\"RegionID\",\"HighRate\",\"LowRate\",\"CheckInTime\",\"CheckOutTime\"]"
   ]
  },
  {
   "cell_type": "code",
   "execution_count": 4,
   "metadata": {},
   "outputs": [],
   "source": [
    "url_vals=data[\"URL\"].str.split('/')\n",
    "lis_url=url_vals.iloc[:].values"
   ]
  },
  {
   "cell_type": "code",
   "execution_count": 5,
   "metadata": {},
   "outputs": [
    {
     "name": "stdout",
     "output_type": "stream",
     "text": [
      "['cb95aaf9_b.jpg', 'cfb26977_b.jpg', 'd23598cc_b.jpg', 'e0d673ad_b.jpg', 'e750c7d3_b.jpg', 'f3a0ebb5_b.jpg', 'fe6b146c_b.jpg', '1828359_63_b.jpg', '1828359_68_b.jpg', '']\n"
     ]
    }
   ],
   "source": [
    "images=[]\n",
    "for i in range(lis_url.size):\n",
    "    images.append(lis_url[i][-1])\n",
    "print(images)"
   ]
  },
  {
   "cell_type": "code",
   "execution_count": 6,
   "metadata": {},
   "outputs": [
    {
     "name": "stdout",
     "output_type": "stream",
     "text": [
      "cb95aaf9_b.jpg      264800\n",
      "cfb26977_b.jpg      264800\n",
      "d23598cc_b.jpg      264800\n",
      "e0d673ad_b.jpg      264800\n",
      "e750c7d3_b.jpg      264800\n",
      "f3a0ebb5_b.jpg      264800\n",
      "fe6b146c_b.jpg      264800\n",
      "1828359_63_b.jpg    264801\n",
      "1828359_68_b.jpg    264801\n",
      "                    264801\n",
      "dtype: int64\n",
      "633604    JP\n",
      "608177    ID\n",
      "608220    PH\n",
      "617285    US\n",
      "311424    DE\n",
      "547052    FR\n",
      "648128    ID\n",
      "648171    ID\n",
      "152738    US\n",
      "303718    AT\n",
      "dtype: object\n"
     ]
    }
   ],
   "source": [
    "list_ean=data[\"EANHotelID\"].values \n",
    "dict_img_to_ean = pd.Series(list_ean,index=images)\n",
    "print(dict_img_to_ean)\n",
    "list_country=data_2[\"Country\"].values \n",
    "list_ean_2=data_2[\"EANHotelID\"].values \n",
    "dict_ean_to_country=pd.Series(list_country,list_ean_2)\n",
    "print(dict_ean_to_country)"
   ]
  },
  {
   "cell_type": "code",
   "execution_count": 74,
   "metadata": {},
   "outputs": [
    {
     "name": "stdout",
     "output_type": "stream",
     "text": [
      "/home/kc/Desktop/prepare_data/expedia_test/Aerial View\n",
      "/home/kc/Desktop/prepare_data/expedia_test/Aerobics Facility\n"
     ]
    },
    {
     "ename": "TypeError",
     "evalue": "Required argument 'mat' (pos 2) not found",
     "output_type": "error",
     "traceback": [
      "\u001b[0;31m---------------------------------------------------------------------------\u001b[0m",
      "\u001b[0;31mTypeError\u001b[0m                                 Traceback (most recent call last)",
      "\u001b[0;32m<ipython-input-74-3ee47bf4c2d7>\u001b[0m in \u001b[0;36m<module>\u001b[0;34m()\u001b[0m\n\u001b[1;32m     17\u001b[0m         \u001b[0mresized_image\u001b[0m \u001b[0;34m=\u001b[0m \u001b[0mcv2\u001b[0m\u001b[0;34m.\u001b[0m\u001b[0mresize\u001b[0m\u001b[0;34m(\u001b[0m\u001b[0mimg\u001b[0m\u001b[0;34m,\u001b[0m \u001b[0;34m(\u001b[0m\u001b[0;36m224\u001b[0m\u001b[0;34m,\u001b[0m \u001b[0;36m224\u001b[0m\u001b[0;34m)\u001b[0m\u001b[0;34m)\u001b[0m\u001b[0;34m\u001b[0m\u001b[0m\n\u001b[1;32m     18\u001b[0m         \u001b[0mx_train\u001b[0m\u001b[0;34m.\u001b[0m\u001b[0mappend\u001b[0m\u001b[0;34m(\u001b[0m\u001b[0mresized_image\u001b[0m\u001b[0;34m)\u001b[0m\u001b[0;34m\u001b[0m\u001b[0m\n\u001b[0;32m---> 19\u001b[0;31m \u001b[0mprint\u001b[0m\u001b[0;34m(\u001b[0m\u001b[0mcv2\u001b[0m\u001b[0;34m.\u001b[0m\u001b[0mimshow\u001b[0m\u001b[0;34m(\u001b[0m\u001b[0mx_train\u001b[0m\u001b[0;34m[\u001b[0m\u001b[0;36m0\u001b[0m\u001b[0;34m]\u001b[0m\u001b[0;34m)\u001b[0m\u001b[0;34m)\u001b[0m\u001b[0;34m\u001b[0m\u001b[0m\n\u001b[0m",
      "\u001b[0;31mTypeError\u001b[0m: Required argument 'mat' (pos 2) not found"
     ]
    }
   ],
   "source": [
    "import cv2\n",
    "import os\n",
    "import glob\n",
    "x_train=[]\n",
    "y_train=[]\n",
    "root_dir='/home/kc/Desktop/prepare_data/expedia_test'\n",
    "os.chdir(root_dir)\n",
    "counter=0\n",
    "for dirs in os.listdir(root_dir):\n",
    "    img_dir=os.getcwd()+\"/\"+dirs\n",
    "    print(img_dir)\n",
    "    counter=counter+1\n",
    "    data_path = os.path.join(img_dir,'*g')\n",
    "    files = glob.glob(data_path)\n",
    "    for f1 in files:\n",
    "        img = cv2.imread(f1)\n",
    "        resized_image = cv2.resize(img, (224, 224)) \n",
    "        x_train.append(resized_image)\n",
    "print(cv2.imshow(x_train[0]))"
   ]
  },
  {
   "cell_type": "code",
   "execution_count": 73,
   "metadata": {},
   "outputs": [
    {
     "name": "stdout",
     "output_type": "stream",
     "text": [
      "(5798, 30, 30, 3)\n",
      "15654600\n"
     ]
    }
   ],
   "source": [
    "x_train=np.array(x_train)\n",
    "print(x_train.shape)\n",
    "print(x_train.size)"
   ]
  }
 ],
 "metadata": {
  "kernelspec": {
   "display_name": "Python 3",
   "language": "python",
   "name": "python3"
  },
  "language_info": {
   "codemirror_mode": {
    "name": "ipython",
    "version": 3
   },
   "file_extension": ".py",
   "mimetype": "text/x-python",
   "name": "python",
   "nbconvert_exporter": "python",
   "pygments_lexer": "ipython3",
   "version": "3.5.2"
  }
 },
 "nbformat": 4,
 "nbformat_minor": 2
}

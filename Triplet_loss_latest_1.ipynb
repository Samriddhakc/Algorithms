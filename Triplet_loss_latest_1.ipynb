{
 "cells": [
  {
   "cell_type": "code",
   "execution_count": 1,
   "metadata": {},
   "outputs": [
    {
     "name": "stderr",
     "output_type": "stream",
     "text": [
      "Using TensorFlow backend.\n"
     ]
    }
   ],
   "source": [
    "import keras\n",
    "from keras import regularizers\n",
    "from keras.models import Model\n",
    "from keras.layers import Input, Dense, Conv2D, MaxPooling2D, Dropout, Flatten, Lambda\n",
    "from keras import backend as K\n",
    "import numpy as np\n",
    "from keras import optimizers\n",
    "import matplotlib.pyplot as plt\n",
    "from IPython.display import clear_output\n",
    "from collections import defaultdict\n",
    "from sklearn.datasets import fetch_mldata\n",
    "from keras.datasets import cifar10,mnist\n",
    "from keras.callbacks import ModelCheckpoint#save your model\n",
    "import os\n",
    "import pandas as pd\n",
    "import matplotlib.pyplot as plt\n",
    "import tensorflow as tf\n",
    "from tensorflow.contrib.tensorboard.plugins import projector\n",
    "from tensorflow.examples.tutorials.mnist import input_data"
   ]
  },
  {
   "cell_type": "code",
   "execution_count": 2,
   "metadata": {},
   "outputs": [
    {
     "name": "stdout",
     "output_type": "stream",
     "text": [
      "(60000, 28, 28)\n",
      "(10000, 28, 28)\n"
     ]
    }
   ],
   "source": [
    "(x_train, y_train_1),(x_test, y_test_1) = mnist.load_data()\n",
    "print(x_train.shape)\n",
    "print(x_test.shape)"
   ]
  },
  {
   "cell_type": "code",
   "execution_count": 3,
   "metadata": {},
   "outputs": [],
   "source": [
    "x_train= x_train.astype('float32')\n",
    "x_test = x_test.astype('float32')\n",
    "x_train /= 255\n",
    "x_test/= 255"
   ]
  },
  {
   "cell_type": "code",
   "execution_count": 4,
   "metadata": {},
   "outputs": [
    {
     "name": "stdout",
     "output_type": "stream",
     "text": [
      "(60000, 28, 28, 1)\n",
      "(60000,)\n",
      "(10000,)\n",
      "(10000, 28, 28, 1)\n"
     ]
    }
   ],
   "source": [
    "img_rows=28\n",
    "img_cols=28\n",
    "if K.image_data_format() == 'channels_first':\n",
    "    x_train_1 = x_train.reshape(x_train.shape[0], 1, img_rows, img_cols)\n",
    "    x_test_1 = x_test.reshape(x_test.shape[0], 1, img_rows, img_cols)\n",
    "    input_shape = (1, img_rows, img_cols)\n",
    "else:\n",
    "    x_train_1 = x_train.reshape(x_train.shape[0], img_rows, img_cols, 1)\n",
    "    x_test_1 = x_test.reshape(x_test.shape[0], img_rows, img_cols, 1)\n",
    "    input_shape = (img_rows, img_cols, 1)\n",
    "print(x_train_1.shape)\n",
    "print(y_train_1.shape)\n",
    "print(y_test_1.shape)\n",
    "print(x_test_1.shape)"
   ]
  },
  {
   "cell_type": "code",
   "execution_count": 19,
   "metadata": {},
   "outputs": [],
   "source": [
    "#making even splits of validation and train set \n",
    "#x_train_1=x_train[:35000]\n",
    "##y_train_1=y_train[:35000]\n",
    "#x_add=x_train[35000:]\n",
    "#y_add=y_train[35000:]\n",
    "#x_test_1=np.vstack((x_add,x_test))\n",
    "#y_test_1=np.hstack((y_add,y_test))\n",
    "#print(x_test_1.shape)\n",
    "#print(y_test_1.shape)\n",
    "#print(x_train_1.shape)\n",
    "#print(y_train_1.shape)"
   ]
  },
  {
   "cell_type": "code",
   "execution_count": 5,
   "metadata": {},
   "outputs": [],
   "source": [
    "def get_triples_indices(grouped, n):\n",
    "    num_classes = len(grouped) \n",
    "    positive_labels = np.random.randint(0, num_classes, size=n)\n",
    "    negative_labels = (np.random.randint(1, num_classes, size=n) + positive_labels) % num_classes\n",
    "    triples_indices = []\n",
    "    for positive_label, negative_label in zip(positive_labels, negative_labels):\n",
    "        negative = np.random.choice(grouped[negative_label])\n",
    "        positive_group = grouped[positive_label]\n",
    "        m = len(positive_group)\n",
    "        anchor_j = np.random.randint(0, m)\n",
    "        anchor = positive_group[anchor_j]\n",
    "        positive_j = (np.random.randint(1, m) + anchor_j) % m\n",
    "        positive = positive_group[positive_j]\n",
    "        triples_indices.append([anchor, positive, negative])\n",
    "    return np.asarray(triples_indices)\n",
    "\n",
    "def batch_all_triplet_indices(grouped,n):\n",
    "    num_classes=len(grouped)\n",
    "    triples_indices = []\n",
    "    for i in range(n):\n",
    "        positive_index=np.random.randint(num_classes)\n",
    "        positive_labels_indices=grouped[positive_index]\n",
    "        positive=np.random.choice(positive_labels_indices)\n",
    "        anchor=np.random.choice(positive_labels_indices)\n",
    "        negative_index=np.random.randint(num_classes)\n",
    "        while (negative_index == positive_index):\n",
    "            negative_index=np.random.randint(num_classes)\n",
    "        negative = np.random.choice(grouped[negative_index])\n",
    "        triples_indices.append([anchor,positive, negative])\n",
    "    return np.asarray(triples_indices) \n",
    "\n",
    "def get_triples_data(x, grouped, n):\n",
    "    indices = batch_all_triplet_indices(grouped, n)\n",
    "    return x[indices[:,0]], x[indices[:,1]], x[indices[:,2]]"
   ]
  },
  {
   "cell_type": "code",
   "execution_count": 6,
   "metadata": {},
   "outputs": [],
   "source": [
    "def triplet_loss(inputs):\n",
    "    margin=0.1\n",
    "    anchor, positive, negative = inputs\n",
    "    positive_distance = K.square(anchor - positive)\n",
    "    negative_distance = K.square(anchor - negative)\n",
    "    positive_distance = K.sqrt(K.sum(positive_distance, axis=1, keepdims=True))\n",
    "    negative_distance = K.sqrt(K.sum(negative_distance, axis=1, keepdims=True))\n",
    "    loss = positive_distance - negative_distance+margin\n",
    "    loss=K.maximum(0.0,loss)\n",
    "    return K.mean(loss)\n",
    "\n",
    "def build_model(input_shape):\n",
    "    base_input = Input(input_shape)\n",
    "    x = Conv2D(32, (3, 3), activation='relu')(base_input)\n",
    "    x = Dropout(0.2)(x)\n",
    "    x = MaxPooling2D((2, 2))(x)\n",
    "    x = Conv2D(64, (3, 3), activation='relu')(x)\n",
    "    x = MaxPooling2D((2, 2))(x)\n",
    "    x = Dropout(0.3)(x)\n",
    "    x = Flatten()(x)\n",
    "    #kernel_regularizer=regularizers.l2(0.4)\n",
    "    x = Dense(5,kernel_regularizer=regularizers.l2(0.3),activation='softmax')(x)\n",
    "    x = Lambda(lambda x: K.l2_normalize(x, axis=-1))(x) # force the embedding onto the surface of an n-sphere\n",
    "    embedding_model = Model(base_input, x, name='embedding')\n",
    "    \n",
    "    anchor_input = Input(input_shape, name='anchor_input')\n",
    "    positive_input = Input(input_shape, name='positive_input')\n",
    "    negative_input = Input(input_shape, name='negative_input')\n",
    "    \n",
    "    anchor_embedding = embedding_model(anchor_input)\n",
    "    positive_embedding = embedding_model(positive_input)\n",
    "    negative_embedding = embedding_model(negative_input)\n",
    "\n",
    "    inputs = [anchor_input, positive_input, negative_input]\n",
    "    outputs = [anchor_embedding, positive_embedding, negative_embedding]\n",
    "    triplet_model = Model(inputs, outputs)\n",
    "    triplet_model.add_loss(K.mean(triplet_loss(outputs)))\n",
    "    sgd = optimizers.Adam(lr=0.001)\n",
    "    triplet_model.compile(loss=None, optimizer=sgd, metrics=['accuracy'])\n",
    "\n",
    "    return embedding_model, triplet_model"
   ]
  },
  {
   "cell_type": "code",
   "execution_count": 22,
   "metadata": {},
   "outputs": [
    {
     "ename": "IndentationError",
     "evalue": "unindent does not match any outer indentation level (<ipython-input-22-755ad9c81d5c>, line 5)",
     "output_type": "error",
     "traceback": [
      "\u001b[0;36m  File \u001b[0;32m\"<ipython-input-22-755ad9c81d5c>\"\u001b[0;36m, line \u001b[0;32m5\u001b[0m\n\u001b[0;31m    def on_train_end(self, logs={}):\u001b[0m\n\u001b[0m                                    ^\u001b[0m\n\u001b[0;31mIndentationError\u001b[0m\u001b[0;31m:\u001b[0m unindent does not match any outer indentation level\n"
     ]
    }
   ],
   "source": [
    "class accuracy(keras.callbacks.Callback):\n",
    "     def on_train_begin(self, logs={}):\n",
    "        return\n",
    " \n",
    "    def on_train_end(self, logs={}):\n",
    "        return\n",
    " \n",
    "    def on_epoch_begin(self, logs={}):\n",
    "        return\n",
    " \n",
    "    def on_epoch_end(self, epoch, logs={}):\n",
    "        return\n",
    " \n",
    "    def on_batch_begin(self, batch, logs={}):\n",
    "        return\n",
    " \n",
    "    def on_batch_end(self, batch, logs={}):\n",
    "        self.losses.append(logs.get('loss'))\n",
    "        return\n",
    "        "
   ]
  },
  {
   "cell_type": "code",
   "execution_count": 8,
   "metadata": {},
   "outputs": [
    {
     "name": "stdout",
     "output_type": "stream",
     "text": [
      "Epoch 1/100\n",
      "5/5 [==============================] - 27s 5s/step - loss: 2.8530 - val_loss: 2.4693\n",
      "Epoch 2/100\n",
      "5/5 [==============================] - 24s 5s/step - loss: 2.2008 - val_loss: 1.9085\n",
      "Epoch 3/100\n",
      "5/5 [==============================] - 24s 5s/step - loss: 1.6682 - val_loss: 1.4525\n",
      "Epoch 4/100\n",
      "5/5 [==============================] - 24s 5s/step - loss: 1.2442 - val_loss: 1.0922\n",
      "Epoch 5/100\n",
      "5/5 [==============================] - 24s 5s/step - loss: 0.9142 - val_loss: 0.8158\n",
      "Epoch 6/100\n",
      "5/5 [==============================] - 24s 5s/step - loss: 0.6623 - val_loss: 0.6078\n",
      "Epoch 7/100\n",
      "5/5 [==============================] - 24s 5s/step - loss: 0.4725 - val_loss: 0.4543\n",
      "Epoch 8/100\n",
      "5/5 [==============================] - 23s 5s/step - loss: 0.3364 - val_loss: 0.3426\n",
      "Epoch 9/100\n",
      "5/5 [==============================] - 22s 4s/step - loss: 0.2365 - val_loss: 0.2647\n",
      "Epoch 10/100\n",
      "5/5 [==============================] - 23s 5s/step - loss: 0.1675 - val_loss: 0.2108\n",
      "Epoch 11/100\n",
      "5/5 [==============================] - 24s 5s/step - loss: 0.1190 - val_loss: 0.1749\n",
      "Epoch 12/100\n",
      "5/5 [==============================] - 24s 5s/step - loss: 0.0870 - val_loss: 0.1511\n",
      "Epoch 13/100\n",
      "5/5 [==============================] - 23s 5s/step - loss: 0.0653 - val_loss: 0.1351\n",
      "Epoch 14/100\n",
      "5/5 [==============================] - 25s 5s/step - loss: 0.0501 - val_loss: 0.1274\n",
      "Epoch 15/100\n",
      "5/5 [==============================] - 22s 4s/step - loss: 0.0403 - val_loss: 0.1217\n",
      "Epoch 16/100\n",
      "5/5 [==============================] - 23s 5s/step - loss: 0.0351 - val_loss: 0.1194\n",
      "Epoch 17/100\n",
      "5/5 [==============================] - 24s 5s/step - loss: 0.0302 - val_loss: 0.1166\n",
      "Epoch 18/100\n",
      "5/5 [==============================] - 24s 5s/step - loss: 0.0283 - val_loss: 0.1174\n",
      "Epoch 19/100\n",
      "5/5 [==============================] - 24s 5s/step - loss: 0.0257 - val_loss: 0.1159\n",
      "Epoch 20/100\n",
      "5/5 [==============================] - 25s 5s/step - loss: 0.0259 - val_loss: 0.1167\n",
      "Epoch 21/100\n",
      "5/5 [==============================] - 23s 5s/step - loss: 0.0238 - val_loss: 0.1170\n",
      "Epoch 22/100\n",
      "5/5 [==============================] - 23s 5s/step - loss: 0.0230 - val_loss: 0.1185\n",
      "Epoch 23/100\n",
      "5/5 [==============================] - 24s 5s/step - loss: 0.0231 - val_loss: 0.1197\n",
      "Epoch 24/100\n",
      "5/5 [==============================] - 24s 5s/step - loss: 0.0217 - val_loss: 0.1209\n",
      "Epoch 25/100\n",
      "5/5 [==============================] - 24s 5s/step - loss: 0.0224 - val_loss: 0.1216\n",
      "Epoch 26/100\n",
      "5/5 [==============================] - 24s 5s/step - loss: 0.0215 - val_loss: 0.1232\n",
      "Epoch 27/100\n",
      "5/5 [==============================] - 24s 5s/step - loss: 0.0216 - val_loss: 0.1199\n",
      "Epoch 28/100\n",
      "5/5 [==============================] - 24s 5s/step - loss: 0.0210 - val_loss: 0.1207\n",
      "Epoch 29/100\n",
      "5/5 [==============================] - 24s 5s/step - loss: 0.0201 - val_loss: 0.1216\n",
      "Epoch 30/100\n",
      "5/5 [==============================] - 24s 5s/step - loss: 0.0205 - val_loss: 0.1212\n",
      "Epoch 31/100\n",
      "5/5 [==============================] - 23s 5s/step - loss: 0.0195 - val_loss: 0.1211\n",
      "Epoch 32/100\n",
      "5/5 [==============================] - 23s 5s/step - loss: 0.0193 - val_loss: 0.1213\n",
      "Epoch 33/100\n",
      "5/5 [==============================] - 24s 5s/step - loss: 0.0198 - val_loss: 0.1244\n",
      "Epoch 34/100\n",
      "5/5 [==============================] - 24s 5s/step - loss: 0.0197 - val_loss: 0.1219\n",
      "Epoch 35/100\n",
      "5/5 [==============================] - 25s 5s/step - loss: 0.0191 - val_loss: 0.1253\n",
      "Epoch 36/100\n",
      "5/5 [==============================] - 24s 5s/step - loss: 0.0193 - val_loss: 0.1244\n",
      "Epoch 37/100\n",
      "5/5 [==============================] - 24s 5s/step - loss: 0.0187 - val_loss: 0.1231\n",
      "Epoch 38/100\n",
      "5/5 [==============================] - 25s 5s/step - loss: 0.0195 - val_loss: 0.1285\n",
      "Epoch 39/100\n",
      "5/5 [==============================] - 23s 5s/step - loss: 0.0184 - val_loss: 0.1267\n",
      "Epoch 40/100\n",
      "5/5 [==============================] - 24s 5s/step - loss: 0.0186 - val_loss: 0.1296\n",
      "Epoch 41/100\n",
      "5/5 [==============================] - 23s 5s/step - loss: 0.0196 - val_loss: 0.1252\n",
      "Epoch 42/100\n",
      "5/5 [==============================] - 24s 5s/step - loss: 0.0192 - val_loss: 0.1287\n",
      "Epoch 43/100\n",
      "5/5 [==============================] - 24s 5s/step - loss: 0.0191 - val_loss: 0.1281\n",
      "Epoch 44/100\n",
      "5/5 [==============================] - 25s 5s/step - loss: 0.0181 - val_loss: 0.1286\n",
      "Epoch 45/100\n",
      "5/5 [==============================] - 25s 5s/step - loss: 0.0183 - val_loss: 0.1290\n",
      "Epoch 46/100\n",
      "5/5 [==============================] - 24s 5s/step - loss: 0.0174 - val_loss: 0.1292\n",
      "Epoch 47/100\n",
      "5/5 [==============================] - 24s 5s/step - loss: 0.0173 - val_loss: 0.1299\n",
      "Epoch 48/100\n",
      "5/5 [==============================] - 24s 5s/step - loss: 0.0180 - val_loss: 0.1266\n",
      "Epoch 49/100\n",
      "5/5 [==============================] - 25s 5s/step - loss: 0.0181 - val_loss: 0.1284\n",
      "Epoch 50/100\n",
      "5/5 [==============================] - 23s 5s/step - loss: 0.0179 - val_loss: 0.1294\n",
      "Epoch 51/100\n",
      "5/5 [==============================] - 25s 5s/step - loss: 0.0180 - val_loss: 0.1294\n",
      "Epoch 52/100\n",
      "5/5 [==============================] - 24s 5s/step - loss: 0.0174 - val_loss: 0.1298\n",
      "Epoch 53/100\n",
      "5/5 [==============================] - 26s 5s/step - loss: 0.0181 - val_loss: 0.1324\n",
      "Epoch 54/100\n",
      "5/5 [==============================] - 25s 5s/step - loss: 0.0170 - val_loss: 0.1313\n",
      "Epoch 55/100\n",
      "5/5 [==============================] - 25s 5s/step - loss: 0.0167 - val_loss: 0.1315\n",
      "Epoch 56/100\n",
      "5/5 [==============================] - 23s 5s/step - loss: 0.0174 - val_loss: 0.1323\n",
      "Epoch 57/100\n",
      "5/5 [==============================] - 22s 4s/step - loss: 0.0171 - val_loss: 0.1299\n",
      "Epoch 58/100\n",
      "5/5 [==============================] - 23s 5s/step - loss: 0.0169 - val_loss: 0.1288\n",
      "Epoch 59/100\n",
      "5/5 [==============================] - 25s 5s/step - loss: 0.0164 - val_loss: 0.1327\n",
      "Epoch 60/100\n",
      "5/5 [==============================] - 24s 5s/step - loss: 0.0166 - val_loss: 0.1328\n",
      "Epoch 61/100\n",
      "5/5 [==============================] - 24s 5s/step - loss: 0.0164 - val_loss: 0.1305\n",
      "Epoch 62/100\n",
      "5/5 [==============================] - 23s 5s/step - loss: 0.0170 - val_loss: 0.1292\n",
      "Epoch 63/100\n",
      "5/5 [==============================] - 24s 5s/step - loss: 0.0166 - val_loss: 0.1336\n",
      "Epoch 64/100\n",
      "5/5 [==============================] - 23s 5s/step - loss: 0.0167 - val_loss: 0.1331\n",
      "Epoch 65/100\n",
      "5/5 [==============================] - 23s 5s/step - loss: 0.0162 - val_loss: 0.1310\n",
      "Epoch 66/100\n",
      "5/5 [==============================] - 24s 5s/step - loss: 0.0162 - val_loss: 0.1299\n",
      "Epoch 67/100\n",
      "5/5 [==============================] - 21s 4s/step - loss: 0.0158 - val_loss: 0.1324\n",
      "Epoch 68/100\n",
      "5/5 [==============================] - 20s 4s/step - loss: 0.0156 - val_loss: 0.1320\n",
      "Epoch 69/100\n",
      "5/5 [==============================] - 20s 4s/step - loss: 0.0161 - val_loss: 0.1323\n",
      "Epoch 70/100\n",
      "5/5 [==============================] - 21s 4s/step - loss: 0.0164 - val_loss: 0.1324\n",
      "Epoch 71/100\n",
      "5/5 [==============================] - 21s 4s/step - loss: 0.0161 - val_loss: 0.1347\n",
      "Epoch 72/100\n",
      "5/5 [==============================] - 21s 4s/step - loss: 0.0164 - val_loss: 0.1341\n",
      "Epoch 73/100\n",
      "5/5 [==============================] - 20s 4s/step - loss: 0.0159 - val_loss: 0.1348\n",
      "Epoch 74/100\n",
      "5/5 [==============================] - 20s 4s/step - loss: 0.0159 - val_loss: 0.1348\n",
      "Epoch 75/100\n",
      "5/5 [==============================] - 21s 4s/step - loss: 0.0158 - val_loss: 0.1301\n",
      "Epoch 76/100\n",
      "5/5 [==============================] - 21s 4s/step - loss: 0.0157 - val_loss: 0.1326\n",
      "Epoch 77/100\n",
      "5/5 [==============================] - 22s 4s/step - loss: 0.0155 - val_loss: 0.1304\n",
      "Epoch 78/100\n",
      "5/5 [==============================] - 24s 5s/step - loss: 0.0157 - val_loss: 0.1316\n",
      "Epoch 79/100\n",
      "5/5 [==============================] - 22s 4s/step - loss: 0.0159 - val_loss: 0.1313\n",
      "Epoch 80/100\n",
      "5/5 [==============================] - 23s 5s/step - loss: 0.0151 - val_loss: 0.1329\n",
      "Epoch 81/100\n",
      "5/5 [==============================] - 22s 4s/step - loss: 0.0154 - val_loss: 0.1342\n",
      "Epoch 82/100\n",
      "5/5 [==============================] - 24s 5s/step - loss: 0.0152 - val_loss: 0.1341\n",
      "Epoch 83/100\n",
      "5/5 [==============================] - 22s 4s/step - loss: 0.0156 - val_loss: 0.1373\n",
      "Epoch 84/100\n"
     ]
    },
    {
     "name": "stdout",
     "output_type": "stream",
     "text": [
      "5/5 [==============================] - 23s 5s/step - loss: 0.0152 - val_loss: 0.1355\n",
      "Epoch 85/100\n",
      "5/5 [==============================] - 23s 5s/step - loss: 0.0159 - val_loss: 0.1349\n",
      "Epoch 86/100\n",
      "5/5 [==============================] - 23s 5s/step - loss: 0.0153 - val_loss: 0.1331\n",
      "Epoch 87/100\n",
      "5/5 [==============================] - 23s 5s/step - loss: 0.0150 - val_loss: 0.1342\n",
      "Epoch 88/100\n",
      "5/5 [==============================] - 22s 4s/step - loss: 0.0157 - val_loss: 0.1347\n",
      "Epoch 89/100\n",
      "5/5 [==============================] - 23s 5s/step - loss: 0.0153 - val_loss: 0.1362\n",
      "Epoch 90/100\n",
      "5/5 [==============================] - 23s 5s/step - loss: 0.0153 - val_loss: 0.1304\n",
      "Epoch 91/100\n",
      "5/5 [==============================] - 24s 5s/step - loss: 0.0143 - val_loss: 0.1337\n",
      "Epoch 92/100\n",
      "5/5 [==============================] - 24s 5s/step - loss: 0.0153 - val_loss: 0.1354\n",
      "Epoch 93/100\n",
      "5/5 [==============================] - 22s 4s/step - loss: 0.0146 - val_loss: 0.1361\n",
      "Epoch 94/100\n",
      "5/5 [==============================] - 25s 5s/step - loss: 0.0156 - val_loss: 0.1375\n",
      "Epoch 95/100\n",
      "5/5 [==============================] - 24s 5s/step - loss: 0.0146 - val_loss: 0.1368\n",
      "Epoch 96/100\n",
      "5/5 [==============================] - 25s 5s/step - loss: 0.0151 - val_loss: 0.1402\n",
      "Epoch 97/100\n",
      "5/5 [==============================] - 23s 5s/step - loss: 0.0151 - val_loss: 0.1375\n",
      "Epoch 98/100\n",
      "5/5 [==============================] - 24s 5s/step - loss: 0.0147 - val_loss: 0.1350\n",
      "Epoch 99/100\n",
      "5/5 [==============================] - 23s 5s/step - loss: 0.0146 - val_loss: 0.1387\n",
      "Epoch 100/100\n",
      "5/5 [==============================] - 25s 5s/step - loss: 0.0153 - val_loss: 0.1377\n"
     ]
    }
   ],
   "source": [
    "K.clear_session()\n",
    "batch_size = 2000\n",
    "steps_per_epoch = 5\n",
    "epochs = 100\n",
    "def triplet_generator(x, y, batch_size):\n",
    "    grouped = defaultdict(list)\n",
    "    for i, label in enumerate(y):\n",
    "        grouped[label].append(i)\n",
    "        \n",
    "    while True:\n",
    "        x_anchor, x_positive, x_negative = get_triples_data(x_train_1, grouped, batch_size)\n",
    "        yield ({'anchor_input': x_anchor,\n",
    "               'positive_input': x_positive,\n",
    "               'negative_input': x_negative},None)\n",
    "validation_steps=int(x_test_1.size/batch_size)\n",
    "embedding_model, triplet_model = build_model((28,28,1))\n",
    "validation_steps=int(x_test_1.size/batch_size)\n",
    "history = triplet_model.fit_generator(triplet_generator(x_train_1, y_train_1, batch_size),steps_per_epoch=steps_per_epoch,\n",
    "                                          epochs=epochs,verbose=1,validation_data=triplet_generator(x_test_1,y_test_1,batch_size),validation_steps=10,max_queue_size=1,workers=1)"
   ]
  },
  {
   "cell_type": "code",
   "execution_count": 9,
   "metadata": {},
   "outputs": [
    {
     "name": "stdout",
     "output_type": "stream",
     "text": [
      "dict_keys(['loss', 'val_loss'])\n"
     ]
    },
    {
     "data": {
      "image/png": "[encoded data removed]",
      "text/plain": [
       "<Figure size 432x288 with 1 Axes>"
      ]
     },
     "metadata": {},
     "output_type": "display_data"
    },
    {
     "name": "stdout",
     "output_type": "stream",
     "text": [
      "dict_keys(['loss', 'val_loss'])\n"
     ]
    }
   ],
   "source": [
    "print(history.history.keys())\n",
    "plt.plot(history.history['val_loss'], label='val_loss')\n",
    "plt.plot(history.history['loss'], label='loss') \n",
    "plt.legend()\n",
    "plt.show()\n",
    "print(history.history.keys())"
   ]
  },
  {
   "cell_type": "code",
   "execution_count": 21,
   "metadata": {},
   "outputs": [],
   "source": [
    "emb_vecs = np.zeros((len(x_train_1),5))\n",
    "for i,x in enumerate(x_train_1):\n",
    "    x = (x/255).astype(np.float32)\n",
    "    embedding_value= embedding_model.predict(np.expand_dims(x,axis=0))\n",
    "    emb_vecs[i]=embedding_value/np.linalg.norm(embedding_value)"
   ]
  },
  {
   "cell_type": "code",
   "execution_count": 11,
   "metadata": {},
   "outputs": [
    {
     "name": "stdout",
     "output_type": "stream",
     "text": [
      "[0.47671002 0.47101951 0.43038431 0.43836725 0.41652337] [0.47682688 0.4709394  0.43052056 0.43807882 0.4166429 ]\n"
     ]
    }
   ],
   "source": [
    "print(emb_vecs[1],emb_vecs[400])\n",
    "def distance(emb1, emb2):\n",
    "    return np.sqrt(np.sum(np.square(emb1- emb2)))"
   ]
  },
  {
   "cell_type": "code",
   "execution_count": 22,
   "metadata": {},
   "outputs": [],
   "source": [
    "from scipy import stats\n",
    "def k_nearest_neighbor(embedding_values,labels,test_value,k): \n",
    "    '''calculates the k nearest neighbor a a given test_value and a particular k'''\n",
    "    similar=np.zeros(len(embedding_values))\n",
    "    for i,emb_vec in enumerate(embedding_values):\n",
    "        similar[i] = distance(test_value,emb_vec)\n",
    "    arrangement= np.argsort(similar)\n",
    "    arrangement=arrangement[:k]\n",
    "    k_nearest=labels[arrangement]\n",
    "    correct_index_list=stats.mode(k_nearest)\n",
    "    correct_index=correct_index_list[0].tolist()\n",
    "    return correct_index[0]"
   ]
  },
  {
   "cell_type": "code",
   "execution_count": 23,
   "metadata": {},
   "outputs": [
    {
     "name": "stdout",
     "output_type": "stream",
     "text": [
      "7\n",
      "7\n"
     ]
    }
   ],
   "source": [
    "test_image=x_train_1[101]\n",
    "test_image=embedding_model.predict(np.expand_dims(test_image,axis=0))\n",
    "correct_index=k_nearest_neighbor(emb_vecs,y_train_1,test_image,5)\n",
    "print(correct_index)\n",
    "print(y_train_1[101])"
   ]
  },
  {
   "cell_type": "code",
   "execution_count": 24,
   "metadata": {},
   "outputs": [
    {
     "name": "stdout",
     "output_type": "stream",
     "text": [
      "20\n"
     ]
    }
   ],
   "source": [
    "score=0\n",
    "count=0\n",
    "for i,x in enumerate(emb_vecs):\n",
    "    pred=k_nearest_neighbor(emb_vecs,y_train_1,x,5)\n",
    "    if (pred==y_train_1[i]):\n",
    "        score=score+1\n",
    "    if (count==20):\n",
    "        break \n",
    "    count=count+1\n",
    "print(score)"
   ]
  },
  {
   "cell_type": "code",
   "execution_count": null,
   "metadata": {},
   "outputs": [],
   "source": [
    "score=triplet_model.evaluate(triplet_generator(x_test_1,y_test_1,batch_size),steps=100)"
   ]
  },
  {
   "cell_type": "code",
   "execution_count": null,
   "metadata": {},
   "outputs": [],
   "source": [
    "predict=triplet_model.predict_generator(triplet_generator(x_test_1,y_test_1,batch_size),steps=100,workers=1)"
   ]
  },
  {
   "cell_type": "markdown",
   "metadata": {},
   "source": [
    "test_image=x_train_1[4]\n",
    "test_image=embedding_model.predict(np.expand_dims(test_image,axis=0))\n",
    "correct_index=k_nearest_neighbor(emb_vecs,y_train_1,test_image,5)\n",
    "print(correct_index)\n",
    "print(y_train_1[3])"
   ]
  },
  {
   "cell_type": "code",
   "execution_count": 25,
   "metadata": {},
   "outputs": [
    {
     "data": {
      "text/plain": [
       "'./Desktop/logdir/model.ckpt'"
      ]
     },
     "execution_count": 25,
     "metadata": {},
     "output_type": "execute_result"
    }
   ],
   "source": [
    "logdir=\"./Desktop/logdir\"\n",
    "tf.reset_default_graph()\n",
    "session=tf.Session()\n",
    "embedding_var=tf.Variable(emb_vecs,name='mnist_embedding')\n",
    "saver=tf.train.Saver()\n",
    "session.run(tf.global_variables_initializer())\n",
    "saver.save(session,os.path.join(logdir,\"model.ckpt\"))"
   ]
  },
  {
   "cell_type": "code",
   "execution_count": 26,
   "metadata": {},
   "outputs": [],
   "source": [
    "def write_meta_file(savedir, labels):\n",
    "    with open(savedir+\"/metadata.tsv\", \"w\") as metafile:\n",
    "        string_array = []\n",
    "        for label in labels:\n",
    "            string_array.append(str(label)+\"\\n\")\n",
    "        metafile.writelines(string_array)"
   ]
  },
  {
   "cell_type": "code",
   "execution_count": 27,
   "metadata": {},
   "outputs": [],
   "source": [
    "write_meta_file(logdir,y_train_1)"
   ]
  },
  {
   "cell_type": "code",
   "execution_count": null,
   "metadata": {},
   "outputs": [],
   "source": []
  }
 ],
 "metadata": {
  "kernelspec": {
   "display_name": "Python 3",
   "language": "python",
   "name": "python3"
  },
  "language_info": {
   "codemirror_mode": {
    "name": "ipython",
    "version": 3
   },
   "file_extension": ".py",
   "mimetype": "text/x-python",
   "name": "python",
   "nbconvert_exporter": "python",
   "pygments_lexer": "ipython3",
   "version": "3.5.2"
  }
 },
 "nbformat": 4,
 "nbformat_minor": 2
}
